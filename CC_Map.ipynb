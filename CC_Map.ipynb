{
 "cells": [
  {
   "cell_type": "code",
   "execution_count": 1,
   "metadata": {},
   "outputs": [],
   "source": [
    "import itertools\n",
    "import numpy as np\n",
    "import matplotlib.pyplot as plt\n",
    "from matplotlib.ticker import NullFormatter\n",
    "import pandas as pd\n",
    "import numpy as np\n",
    "import matplotlib.ticker as ticker\n",
    "from sklearn import preprocessing\n",
    "%matplotlib inline"
   ]
  },
  {
   "cell_type": "code",
   "execution_count": 32,
   "metadata": {},
   "outputs": [
    {
     "data": {
      "text/html": [
       "<div>\n",
       "<style scoped>\n",
       "    .dataframe tbody tr th:only-of-type {\n",
       "        vertical-align: middle;\n",
       "    }\n",
       "\n",
       "    .dataframe tbody tr th {\n",
       "        vertical-align: top;\n",
       "    }\n",
       "\n",
       "    .dataframe thead th {\n",
       "        text-align: right;\n",
       "    }\n",
       "</style>\n",
       "<table border=\"1\" class=\"dataframe\">\n",
       "  <thead>\n",
       "    <tr style=\"text-align: right;\">\n",
       "      <th></th>\n",
       "      <th>capture_timestamp</th>\n",
       "      <th>read_timestamp</th>\n",
       "      <th>delta_time</th>\n",
       "      <th>tsp_provider</th>\n",
       "      <th>vin</th>\n",
       "      <th>latitude</th>\n",
       "      <th>longitude</th>\n",
       "      <th>geom</th>\n",
       "      <th>gid</th>\n",
       "    </tr>\n",
       "  </thead>\n",
       "  <tbody>\n",
       "    <tr>\n",
       "      <td>0</td>\n",
       "      <td>1/13/2020 0:24</td>\n",
       "      <td>20:42.4</td>\n",
       "      <td>55:44.4</td>\n",
       "      <td>geotab</td>\n",
       "      <td>4V4NC9TH7KN205540</td>\n",
       "      <td>38.758068</td>\n",
       "      <td>-111.410919</td>\n",
       "      <td>0101000020E61000008693347F4CDA5BC008D220600861...</td>\n",
       "      <td>144764</td>\n",
       "    </tr>\n",
       "    <tr>\n",
       "      <td>1</td>\n",
       "      <td>1/13/2020 2:11</td>\n",
       "      <td>09:42.0</td>\n",
       "      <td>58:12.0</td>\n",
       "      <td>geotab</td>\n",
       "      <td>1HTMMMML5JH418853</td>\n",
       "      <td>34.027214</td>\n",
       "      <td>-118.172470</td>\n",
       "      <td>0101000020E6100000A2629CBF098B5DC0BBBE6AC07B03...</td>\n",
       "      <td>145651</td>\n",
       "    </tr>\n",
       "    <tr>\n",
       "      <td>2</td>\n",
       "      <td>1/13/2020 9:46</td>\n",
       "      <td>36:42.6</td>\n",
       "      <td>1 day 08:49:50.619</td>\n",
       "      <td>geotab</td>\n",
       "      <td>3HAMMMML2KL383619</td>\n",
       "      <td>40.663013</td>\n",
       "      <td>-73.783142</td>\n",
       "      <td>0101000020E6100000BBE70A001F7252C03BA759A0DD54...</td>\n",
       "      <td>145672</td>\n",
       "    </tr>\n",
       "    <tr>\n",
       "      <td>3</td>\n",
       "      <td>49:28.6</td>\n",
       "      <td>12:43.4</td>\n",
       "      <td>23:14.7</td>\n",
       "      <td>geotab</td>\n",
       "      <td>1HTMMMMN2JH543276</td>\n",
       "      <td>30.389582</td>\n",
       "      <td>-91.085693</td>\n",
       "      <td>0101000020E6100000EA9E2B007CC556C0BE9E54A0BB63...</td>\n",
       "      <td>146712</td>\n",
       "    </tr>\n",
       "    <tr>\n",
       "      <td>4</td>\n",
       "      <td>1/13/2020 11:30</td>\n",
       "      <td>37:14.6</td>\n",
       "      <td>06:16.6</td>\n",
       "      <td>geotab</td>\n",
       "      <td>3AKJGEDRXHDHW9173</td>\n",
       "      <td>46.783386</td>\n",
       "      <td>-70.234291</td>\n",
       "      <td>0101000020E61000009B0F19A0FE8E51C0A191BEFF4564...</td>\n",
       "      <td>146729</td>\n",
       "    </tr>\n",
       "  </tbody>\n",
       "</table>\n",
       "</div>"
      ],
      "text/plain": [
       "  capture_timestamp read_timestamp          delta_time tsp_provider  \\\n",
       "0    1/13/2020 0:24        20:42.4             55:44.4       geotab   \n",
       "1    1/13/2020 2:11        09:42.0             58:12.0       geotab   \n",
       "2    1/13/2020 9:46        36:42.6  1 day 08:49:50.619       geotab   \n",
       "3           49:28.6        12:43.4             23:14.7       geotab   \n",
       "4   1/13/2020 11:30        37:14.6             06:16.6       geotab   \n",
       "\n",
       "                 vin   latitude   longitude  \\\n",
       "0  4V4NC9TH7KN205540  38.758068 -111.410919   \n",
       "1  1HTMMMML5JH418853  34.027214 -118.172470   \n",
       "2  3HAMMMML2KL383619  40.663013  -73.783142   \n",
       "3  1HTMMMMN2JH543276  30.389582  -91.085693   \n",
       "4  3AKJGEDRXHDHW9173  46.783386  -70.234291   \n",
       "\n",
       "                                                geom     gid  \n",
       "0  0101000020E61000008693347F4CDA5BC008D220600861...  144764  \n",
       "1  0101000020E6100000A2629CBF098B5DC0BBBE6AC07B03...  145651  \n",
       "2  0101000020E6100000BBE70A001F7252C03BA759A0DD54...  145672  \n",
       "3  0101000020E6100000EA9E2B007CC556C0BE9E54A0BB63...  146712  \n",
       "4  0101000020E61000009B0F19A0FE8E51C0A191BEFF4564...  146729  "
      ]
     },
     "execution_count": 32,
     "metadata": {},
     "output_type": "execute_result"
    }
   ],
   "source": [
    "df = pd.read_csv('cell_coverage_map2_postgres.csv')\n",
    "df.head()"
   ]
  },
  {
   "cell_type": "code",
   "execution_count": 33,
   "metadata": {},
   "outputs": [
    {
     "data": {
      "text/html": [
       "<div>\n",
       "<style scoped>\n",
       "    .dataframe tbody tr th:only-of-type {\n",
       "        vertical-align: middle;\n",
       "    }\n",
       "\n",
       "    .dataframe tbody tr th {\n",
       "        vertical-align: top;\n",
       "    }\n",
       "\n",
       "    .dataframe thead th {\n",
       "        text-align: right;\n",
       "    }\n",
       "</style>\n",
       "<table border=\"1\" class=\"dataframe\">\n",
       "  <thead>\n",
       "    <tr style=\"text-align: right;\">\n",
       "      <th></th>\n",
       "      <th>latitude</th>\n",
       "      <th>longitude</th>\n",
       "      <th>gid</th>\n",
       "    </tr>\n",
       "  </thead>\n",
       "  <tbody>\n",
       "    <tr>\n",
       "      <td>0</td>\n",
       "      <td>38.758068</td>\n",
       "      <td>-111.410919</td>\n",
       "      <td>144764</td>\n",
       "    </tr>\n",
       "    <tr>\n",
       "      <td>1</td>\n",
       "      <td>34.027214</td>\n",
       "      <td>-118.172470</td>\n",
       "      <td>145651</td>\n",
       "    </tr>\n",
       "    <tr>\n",
       "      <td>2</td>\n",
       "      <td>40.663013</td>\n",
       "      <td>-73.783142</td>\n",
       "      <td>145672</td>\n",
       "    </tr>\n",
       "    <tr>\n",
       "      <td>3</td>\n",
       "      <td>30.389582</td>\n",
       "      <td>-91.085693</td>\n",
       "      <td>146712</td>\n",
       "    </tr>\n",
       "    <tr>\n",
       "      <td>4</td>\n",
       "      <td>46.783386</td>\n",
       "      <td>-70.234291</td>\n",
       "      <td>146729</td>\n",
       "    </tr>\n",
       "  </tbody>\n",
       "</table>\n",
       "</div>"
      ],
      "text/plain": [
       "    latitude   longitude     gid\n",
       "0  38.758068 -111.410919  144764\n",
       "1  34.027214 -118.172470  145651\n",
       "2  40.663013  -73.783142  145672\n",
       "3  30.389582  -91.085693  146712\n",
       "4  46.783386  -70.234291  146729"
      ]
     },
     "execution_count": 33,
     "metadata": {},
     "output_type": "execute_result"
    }
   ],
   "source": [
    "df.drop(['capture_timestamp', 'read_timestamp', 'delta_time', 'tsp_provider', 'vin', 'geom'],axis = 1, inplace = True)\n",
    "df.head()"
   ]
  },
  {
   "cell_type": "code",
   "execution_count": 34,
   "metadata": {},
   "outputs": [
    {
     "data": {
      "text/plain": [
       "264191    1\n",
       "230746    1\n",
       "152928    1\n",
       "240991    1\n",
       "238942    1\n",
       "         ..\n",
       "191112    1\n",
       "189065    1\n",
       "195210    1\n",
       "193163    1\n",
       "262144    1\n",
       "Name: gid, Length: 144755, dtype: int64"
      ]
     },
     "execution_count": 34,
     "metadata": {},
     "output_type": "execute_result"
    }
   ],
   "source": [
    "df['gid'].value_counts()"
   ]
  },
  {
   "cell_type": "code",
   "execution_count": 40,
   "metadata": {},
   "outputs": [
    {
     "data": {
      "text/plain": [
       "array([[<matplotlib.axes._subplots.AxesSubplot object at 0x00000213DE424F60>]],\n",
       "      dtype=object)"
      ]
     },
     "execution_count": 40,
     "metadata": {},
     "output_type": "execute_result"
    },
    {
     "data": {
      "image/png": "[encoded data removed]",
      "text/plain": [
       "<Figure size 432x288 with 1 Axes>"
      ]
     },
     "metadata": {
      "needs_background": "light"
     },
     "output_type": "display_data"
    }
   ],
   "source": [
    "df.hist(column='gid', bins=100)"
   ]
  },
  {
   "cell_type": "code",
   "execution_count": 41,
   "metadata": {},
   "outputs": [
    {
     "data": {
      "text/plain": [
       "Index(['latitude', 'longitude', 'gid'], dtype='object')"
      ]
     },
     "execution_count": 41,
     "metadata": {},
     "output_type": "execute_result"
    }
   ],
   "source": [
    "df.columns"
   ]
  },
  {
   "cell_type": "code",
   "execution_count": 42,
   "metadata": {},
   "outputs": [
    {
     "data": {
      "text/plain": [
       "array([[ 3.87580681e+01, -1.11410919e+02,  1.44764000e+05],\n",
       "       [ 3.40272141e+01, -1.18172470e+02,  1.45651000e+05],\n",
       "       [ 4.06630135e+01, -7.37831421e+01,  1.45672000e+05],\n",
       "       [ 3.03895817e+01, -9.10856934e+01,  1.46712000e+05],\n",
       "       [ 4.67833862e+01, -7.02342911e+01,  1.46729000e+05]])"
      ]
     },
     "execution_count": 42,
     "metadata": {},
     "output_type": "execute_result"
    }
   ],
   "source": [
    "X = df[['latitude', 'longitude', 'gid']] .values #astype(float)\n",
    "X[0:5]"
   ]
  },
  {
   "cell_type": "code",
   "execution_count": 43,
   "metadata": {},
   "outputs": [
    {
     "data": {
      "text/plain": [
       "array([144764, 145651, 145672, 146712, 146729], dtype=int64)"
      ]
     },
     "execution_count": 43,
     "metadata": {},
     "output_type": "execute_result"
    }
   ],
   "source": [
    "y = df['gid'].values\n",
    "y[0:5]"
   ]
  },
  {
   "cell_type": "code",
   "execution_count": 44,
   "metadata": {},
   "outputs": [
    {
     "data": {
      "text/plain": [
       "array([[ 0.03288422, -1.01655745, -1.7318474 ],\n",
       "       [-0.86041102, -1.40236098, -1.71062078],\n",
       "       [ 0.39258221,  1.13042466, -1.71011824],\n",
       "       [-1.5472806 ,  0.14316814, -1.68523022],\n",
       "       [ 1.54825089,  1.33291655, -1.68482339]])"
      ]
     },
     "execution_count": 44,
     "metadata": {},
     "output_type": "execute_result"
    }
   ],
   "source": [
    "X = preprocessing.StandardScaler().fit(X).transform(X.astype(float))\n",
    "X[0:5]"
   ]
  },
  {
   "cell_type": "code",
   "execution_count": 45,
   "metadata": {},
   "outputs": [
    {
     "name": "stdout",
     "output_type": "stream",
     "text": [
      "Train set: (115804, 3) (115804,)\n",
      "Test set: (28951, 3) (28951,)\n"
     ]
    }
   ],
   "source": [
    "from sklearn.model_selection import train_test_split\n",
    "X_train, X_test, y_train, y_test = train_test_split( X, y, test_size=0.2, random_state=4)\n",
    "print ('Train set:', X_train.shape,  y_train.shape)\n",
    "print ('Test set:', X_test.shape,  y_test.shape)"
   ]
  },
  {
   "cell_type": "code",
   "execution_count": 46,
   "metadata": {},
   "outputs": [],
   "source": [
    "from sklearn.neighbors import KNeighborsClassifier"
   ]
  },
  {
   "cell_type": "code",
   "execution_count": 47,
   "metadata": {},
   "outputs": [
    {
     "data": {
      "text/plain": [
       "KNeighborsClassifier(algorithm='auto', leaf_size=30, metric='minkowski',\n",
       "                     metric_params=None, n_jobs=None, n_neighbors=4, p=2,\n",
       "                     weights='uniform')"
      ]
     },
     "execution_count": 47,
     "metadata": {},
     "output_type": "execute_result"
    }
   ],
   "source": [
    "k = 4\n",
    "#Train Model and Predict  \n",
    "neigh = KNeighborsClassifier(n_neighbors = k).fit(X_train,y_train)\n",
    "neigh"
   ]
  },
  {
   "cell_type": "code",
   "execution_count": 48,
   "metadata": {},
   "outputs": [
    {
     "data": {
      "text/plain": [
       "array([178735, 277974, 215508, 209841, 239440], dtype=int64)"
      ]
     },
     "execution_count": 48,
     "metadata": {},
     "output_type": "execute_result"
    }
   ],
   "source": [
    "yhat = neigh.predict(X_test)\n",
    "yhat[0:5]"
   ]
  },
  {
   "cell_type": "code",
   "execution_count": 49,
   "metadata": {},
   "outputs": [
    {
     "name": "stdout",
     "output_type": "stream",
     "text": [
      "Train set Accuracy:  0.12848433560153363\n",
      "Test set Accuracy:  0.0\n"
     ]
    }
   ],
   "source": [
    "from sklearn import metrics\n",
    "print(\"Train set Accuracy: \", metrics.accuracy_score(y_train, neigh.predict(X_train)))\n",
    "print(\"Test set Accuracy: \", metrics.accuracy_score(y_test, yhat))"
   ]
  },
  {
   "cell_type": "code",
   "execution_count": 50,
   "metadata": {},
   "outputs": [
    {
     "name": "stdout",
     "output_type": "stream",
     "text": [
      "Train set Accuracy:  0.034420227280577524\n",
      "Test set Accuracy:  0.0\n"
     ]
    }
   ],
   "source": [
    "# write your code here\n",
    "k = 6\n",
    "neigh6 = KNeighborsClassifier(n_neighbors = k).fit(X_train,y_train)\n",
    "yhat6 = neigh6.predict(X_test)\n",
    "print(\"Train set Accuracy: \", metrics.accuracy_score(y_train, neigh6.predict(X_train)))\n",
    "print(\"Test set Accuracy: \", metrics.accuracy_score(y_test, yhat6))"
   ]
  },
  {
   "cell_type": "code",
   "execution_count": 51,
   "metadata": {},
   "outputs": [
    {
     "data": {
      "text/plain": [
       "array([0., 0., 0., 0., 0., 0., 0., 0., 0.])"
      ]
     },
     "execution_count": 51,
     "metadata": {},
     "output_type": "execute_result"
    }
   ],
   "source": [
    "Ks = 10\n",
    "mean_acc = np.zeros((Ks-1))\n",
    "std_acc = np.zeros((Ks-1))\n",
    "ConfustionMx = [];\n",
    "for n in range(1,Ks):\n",
    "    \n",
    "    #Train Model and Predict  \n",
    "    neigh = KNeighborsClassifier(n_neighbors = n).fit(X_train,y_train)\n",
    "    yhat=neigh.predict(X_test)\n",
    "    mean_acc[n-1] = metrics.accuracy_score(y_test, yhat)\n",
    "\n",
    "    \n",
    "    std_acc[n-1]=np.std(yhat==y_test)/np.sqrt(yhat.shape[0])\n",
    "\n",
    "mean_acc"
   ]
  },
  {
   "cell_type": "code",
   "execution_count": 52,
   "metadata": {},
   "outputs": [
    {
     "data": {
      "image/png": "[encoded data removed]",
      "text/plain": [
       "<Figure size 432x288 with 1 Axes>"
      ]
     },
     "metadata": {
      "needs_background": "light"
     },
     "output_type": "display_data"
    }
   ],
   "source": [
    "plt.plot(range(1,Ks),mean_acc,'g')\n",
    "plt.fill_between(range(1,Ks),mean_acc - 1 * std_acc,mean_acc + 1 * std_acc, alpha=0.10)\n",
    "plt.legend(('Accuracy ', '+/- 3xstd'))\n",
    "plt.ylabel('Accuracy ')\n",
    "plt.xlabel('Number of Nabors (K)')\n",
    "plt.tight_layout()\n",
    "plt.show()"
   ]
  },
  {
   "cell_type": "code",
   "execution_count": 53,
   "metadata": {},
   "outputs": [
    {
     "name": "stdout",
     "output_type": "stream",
     "text": [
      "The best accuracy was with 0.0 with k= 1\n"
     ]
    }
   ],
   "source": [
    "print( \"The best accuracy was with\", mean_acc.max(), \"with k=\", mean_acc.argmax()+1) "
   ]
  },
  {
   "cell_type": "code",
   "execution_count": null,
   "metadata": {},
   "outputs": [],
   "source": []
  }
 ],
 "metadata": {
  "kernelspec": {
   "display_name": "Python 3",
   "language": "python",
   "name": "python3"
  },
  "language_info": {
   "codemirror_mode": {
    "name": "ipython",
    "version": 3
   },
   "file_extension": ".py",
   "mimetype": "text/x-python",
   "name": "python",
   "nbconvert_exporter": "python",
   "pygments_lexer": "ipython3",
   "version": "3.6.9"
  }
 },
 "nbformat": 4,
 "nbformat_minor": 2
}
